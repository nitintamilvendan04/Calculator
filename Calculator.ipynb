{
 "cells": [
  {
   "cell_type": "code",
   "execution_count": null,
   "id": "53a4fea3-0718-4118-a9fc-e3212cdfc0c1",
   "metadata": {},
   "outputs": [],
   "source": [
    "# CALCULATOR\n",
    "\n",
    "print(\"Simple Calculator\")\n",
    "print(\"Choose an operation:\")\n",
    "print(\"1. Addition (+)\")\n",
    "print(\"2. Subtraction (-)\")\n",
    "print(\"3. Multiplication (*)\")\n",
    "print(\"4. Division (/)\")\n",
    "\n",
    "# Get inputs from user\n",
    "num1 = float(input(\"Enter the first number: \"))\n",
    "num2 = float(input(\"Enter the second number: \"))\n",
    "choice = input(\"Enter your choice (1/2/3/4): \")\n",
    "\n",
    "# Perform calculation based on choice\n",
    "if choice == '1':\n",
    "    result = num1 + num2\n",
    "    operation = '+'\n",
    "elif choice == '2':\n",
    "    result = num1 - num2\n",
    "    operation = '-'\n",
    "elif choice == '3':\n",
    "    result = num1 * num2\n",
    "    operation = '*'\n",
    "elif choice == '4':\n",
    "    if num2 != 0:\n",
    "        result = num1 / num2\n",
    "        operation = '/'\n",
    "    else:\n",
    "        result = \"Error! Division by zero.\"\n",
    "        operation = '/'\n",
    "else:\n",
    "    result = \"Invalid choice!\"\n",
    "    operation = '?'\n",
    "\n",
    "# Display the result\n",
    "if isinstance(result, (int, float)):\n",
    "    print(f\"\\nResult: {num1} {operation} {num2} = {result}\")\n",
    "else:\n",
    "    print(f\"\\n{result}\")"
   ]
  }
 ],
 "metadata": {
  "kernelspec": {
   "display_name": "Python [conda env:base] *",
   "language": "python",
   "name": "conda-base-py"
  },
  "language_info": {
   "codemirror_mode": {
    "name": "ipython",
    "version": 3
   },
   "file_extension": ".py",
   "mimetype": "text/x-python",
   "name": "python",
   "nbconvert_exporter": "python",
   "pygments_lexer": "ipython3",
   "version": "3.12.7"
  }
 },
 "nbformat": 4,
 "nbformat_minor": 5
}
